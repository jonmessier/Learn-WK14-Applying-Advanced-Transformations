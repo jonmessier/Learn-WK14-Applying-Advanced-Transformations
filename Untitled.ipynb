{
 "cells": [
  {
   "cell_type": "markdown",
   "id": "24fb8aca",
   "metadata": {},
   "source": [
    "# Intro\n",
    "\n",
    "Jon Messier\n",
    "\n",
    "3/1/2023"
   ]
  },
  {
   "cell_type": "markdown",
   "id": "6706ad72",
   "metadata": {},
   "source": [
    "# Applying Advanced Transformations (Core)\n",
    "\n",
    "The Data New Window\n",
    "\n",
    "You will be working with a heavily modified version of the Superheroes dataset from Kaggle.\n",
    "\n",
    "The dataset includes two csv's:\n",
    "\n",
    "-  New Window superhero_info.csv:\n",
    "  - Contains Name, Publisher, Demographic Info, and Body measurements.\n",
    "\n",
    "- New Window superhero_powers.csv:\n",
    "  - Contains Hero name and list of powers\n",
    "\n",
    "The Task\n",
    "\n",
    "Your task is two-fold:\n",
    "\n",
    "I. Clean the files and combine them into one final DataFrame.\n",
    "\n",
    "- This dataframe should have the following columns:\n",
    " - Hero (Just the name of the Hero)\n",
    "   - Publisher\n",
    "   - Gender\n",
    "   - Eye color\n",
    "   - Race\n",
    "   - Hair color\n",
    "   - Height (numeric)\n",
    "   - Skin color\n",
    "   - Alignment\n",
    "   - Weight (numeric)\n",
    "   - Plus, one-hot-encoded columns for every power that appears in the dataset. E.g.:\n",
    "      - Agility\n",
    "      - Flight\n",
    "      - Superspeed\n",
    "      - etc.\n",
    "\n",
    "Hint: There is a space in \"100 kg\" or \"52.5 cm\"\n",
    "\n",
    "\n",
    "II. Use your combined DataFrame to answer the following questions.\n",
    "\n",
    "-  Compare the average weight of super powers who have Super Speed to those who do not.\n",
    "- What is the average height of heroes for each publisher?"
   ]
  },
  {
   "cell_type": "code",
   "execution_count": null,
   "id": "f83d51a1",
   "metadata": {},
   "outputs": [],
   "source": []
  }
 ],
 "metadata": {
  "kernelspec": {
   "display_name": "Python (dojo-env)",
   "language": "python",
   "name": "dojo-env"
  },
  "language_info": {
   "codemirror_mode": {
    "name": "ipython",
    "version": 3
   },
   "file_extension": ".py",
   "mimetype": "text/x-python",
   "name": "python",
   "nbconvert_exporter": "python",
   "pygments_lexer": "ipython3",
   "version": "3.9.15"
  },
  "toc": {
   "base_numbering": 1,
   "nav_menu": {},
   "number_sections": false,
   "sideBar": true,
   "skip_h1_title": false,
   "title_cell": "Table of Contents",
   "title_sidebar": "Contents",
   "toc_cell": false,
   "toc_position": {},
   "toc_section_display": true,
   "toc_window_display": false
  }
 },
 "nbformat": 4,
 "nbformat_minor": 5
}
